{
  "nbformat": 4,
  "nbformat_minor": 0,
  "metadata": {
    "colab": {
      "name": "NeuralStyleTransfer.ipynb",
      "provenance": [],
      "mount_file_id": "1AcCd8-KLsORFwsveF76GQmGDdHJBbadV",
      "authorship_tag": "ABX9TyPY3k/MvIOU8DRo4IItlkhZ",
      "include_colab_link": true
    },
    "kernelspec": {
      "name": "python3",
      "display_name": "Python 3"
    }
  },
  "cells": [
    {
      "cell_type": "markdown",
      "metadata": {
        "id": "view-in-github",
        "colab_type": "text"
      },
      "source": [
        "<a href=\"https://colab.research.google.com/github/uttiyamaji/Generative-Modeling/blob/master/NeuralStyleTransfer.ipynb\" target=\"_parent\"><img src=\"https://colab.research.google.com/assets/colab-badge.svg\" alt=\"Open In Colab\"/></a>"
      ]
    },
    {
      "cell_type": "markdown",
      "metadata": {
        "id": "XUokh2WGtUdm",
        "colab_type": "text"
      },
      "source": [
        "Neural Style Transfer with Keras"
      ]
    },
    {
      "cell_type": "code",
      "metadata": {
        "id": "Ffta4hLzb1cz",
        "colab_type": "code",
        "colab": {}
      },
      "source": [
        "from keras.preprocessing.image import load_img, img_to_array"
      ],
      "execution_count": null,
      "outputs": []
    },
    {
      "cell_type": "code",
      "metadata": {
        "id": "0cNl9W03-TQy",
        "colab_type": "code",
        "colab": {}
      },
      "source": [
        "style_reference_image_path = \"/content/drive/My Drive/Colab Notebooks/StyleTransfer/maxresdefault.jpg\"\n",
        "target_image_path = \"/content/drive/My Drive/Colab Notebooks/StyleTransfer/DSCN0470_r1.jpg\"\n",
        "\n",
        "width, height = load_img(target_image_path).size\n",
        "img_height = 400\n",
        "img_width = int(width*img_height/height)"
      ],
      "execution_count": null,
      "outputs": []
    },
    {
      "cell_type": "code",
      "metadata": {
        "id": "JcNI6LRk_NmI",
        "colab_type": "code",
        "colab": {}
      },
      "source": [
        "import numpy as np\n",
        "from keras.applications import vgg19\n",
        "\n",
        "def preprocess_image(image_path):\n",
        "  img = load_img(image_path, target_size = (img_height, img_width))\n",
        "  img = img_to_array(img)\n",
        "  img = np.expand_dims(img, axis = 0)\n",
        "  img = vgg19.preprocess_input(img)\n",
        "  return img\n",
        "\n",
        "def deprocess_image(x):\n",
        "  x[:,:,0] += 103.9339\n",
        "  x[:,:,1] += 116.779\n",
        "  x[:,:,2] += 123.68\n",
        "  x = x[:,:,::-1]\n",
        "  x = np.clip(x,0,255).astype('uint8')\n",
        "  return x\n",
        "\n"
      ],
      "execution_count": null,
      "outputs": []
    },
    {
      "cell_type": "code",
      "metadata": {
        "id": "tRMAWsEVAzv0",
        "colab_type": "code",
        "colab": {
          "base_uri": "https://localhost:8080/",
          "height": 34
        },
        "outputId": "744caf13-c14a-4414-dc8d-f880a0f61322"
      },
      "source": [
        "from keras import backend as K\n",
        "\n",
        "target_image = K.constant(preprocess_image(target_image_path))\n",
        "style_reference_image = K.constant(preprocess_image(style_reference_image_path))\n",
        "combination_image = K.placeholder((1,img_height, img_width, 3))\n",
        "\n",
        "input_tensor = K.concatenate([target_image, style_reference_image, combination_image], axis = 0)\n",
        "\n",
        "model = vgg19.VGG19(input_tensor = input_tensor, weights = 'imagenet', include_top = False)\n",
        "print('Model loaded')\n",
        "\n",
        "def content_loss(base, combination):\n",
        "  return K.sum(K.square(combination-base))\n",
        "\n",
        "def gram_matrix(x):\n",
        "  features = K.batch_flatten(K.permute_dimensions(x, (2,0,1)))\n",
        "  gram = K.dot(features, K.transpose(features))\n",
        "  return gram\n",
        "\n",
        "def style_loss(style, combination):\n",
        "  S = gram_matrix(style)\n",
        "  C = gram_matrix(combination)\n",
        "  channels  = 3\n",
        "  size = img_height * img_width\n",
        "  return K.sum(K.square(S-C))/(4. *(channels ** 2) * (size ** 2))\n",
        "\n",
        "\n",
        "def total_variation_loss(x):\n",
        "  a = K.square(\n",
        "      x[:, :img_height - 1, :img_width - 1, :] -\n",
        "      x[:, 1:, :img_width - 1, :])\n",
        "  b = K.square(\n",
        "      x[:, :img_height - 1, :img_width - 1, :] -\n",
        "      x[:, :img_height - 1, 1:, :])\n",
        "  return K.sum(K.pow(a + b, 1.25))\n"
      ],
      "execution_count": null,
      "outputs": [
        {
          "output_type": "stream",
          "text": [
            "Model loaded\n"
          ],
          "name": "stdout"
        }
      ]
    },
    {
      "cell_type": "code",
      "metadata": {
        "id": "UcPBNMoiLAs5",
        "colab_type": "code",
        "colab": {
          "base_uri": "https://localhost:8080/",
          "height": 34
        },
        "outputId": "a83be362-d36b-4ff3-af38-a9c275dc7a69"
      },
      "source": [
        "grads = K.gradients(loss, combination_image)\n",
        "grads"
      ],
      "execution_count": null,
      "outputs": [
        {
          "output_type": "execute_result",
          "data": {
            "text/plain": [
              "[None]"
            ]
          },
          "metadata": {
            "tags": []
          },
          "execution_count": 45
        }
      ]
    },
    {
      "cell_type": "code",
      "metadata": {
        "id": "f9nIdmDPC79u",
        "colab_type": "code",
        "colab": {}
      },
      "source": [
        "outputs_dict = dict([(layer.name, layer.output) for layer in model.layers])\n",
        "content_layer = 'block5_conv2'\n",
        "style_layers = ['block1_conv1', 'block2_conv1','block3_conv1','block4_conv1','block5_conv1']\n",
        "\n",
        "total_variation_weight = 1e-4\n",
        "style_weight = 1.\n",
        "content_weight = 0.025\n",
        "\n",
        "loss = K.variable(0.)\n",
        "layer_features = outputs_dict[content_layer]\n",
        "target_image_features = layer_features[0,:,:,:]\n",
        "combination_features = layer_features[2,:,:,:]\n",
        "\n",
        "loss = loss + content_weight * content_loss(target_image_features, combination_features)\n",
        "\n",
        "for layer_name in style_layers:\n",
        "  layer_features = outputs_dict[layer_name]\n",
        "  style_reference_features = layer_features[1,:,:,:]\n",
        "  combination_features = layer_features[2,:,:,:]\n",
        "  sl = style_loss(style_reference_features, combination_features)\n",
        "  loss = loss + (style_weight/len(style_layers))*sl\n",
        "  \n",
        "loss = loss + total_variation_weight * total_variation_loss(combination_image)\n",
        "\n",
        "\n",
        "grads = K.gradients(loss, combination_image)[0]\n",
        "\n",
        "fetch_loss_and_grads = K.function([combination_image],[loss, grads])\n",
        "\n",
        "class Evaluator(object):\n",
        "\n",
        "  def __init__(self):\n",
        "    self.loss_value = None\n",
        "    self.grads_values = None\n",
        "  \n",
        "  def loss(self, x):\n",
        "    assert self.loss_value is None\n",
        "    x = x.reshape((1, img_height, img_width, 3))\n",
        "    outs = fetch_loss_and_grads([x])\n",
        "    loss_value = outs[0]\n",
        "    grad_values = outs[1].flatten().astype('float64')\n",
        "    self.loss_value = loss_value\n",
        "    self.grad_values = grad_values\n",
        "    return self.loss_value\n",
        "\n",
        "  def grads(self, x):\n",
        "    assert self.loss_value is not None\n",
        "    grad_values= np.copy(self.grad_values)\n",
        "    self.loss_value = None\n",
        "    self.grad_values = None\n",
        "    return grad_values\n",
        "\n",
        "evaluator = Evaluator()\n",
        "\n"
      ],
      "execution_count": null,
      "outputs": []
    },
    {
      "cell_type": "code",
      "metadata": {
        "id": "JbEb3HszH8sg",
        "colab_type": "code",
        "colab": {
          "base_uri": "https://localhost:8080/",
          "height": 286
        },
        "outputId": "d207d326-de40-400f-d91c-a20db9455119"
      },
      "source": [
        "from scipy.optimize import fmin_l_bfgs_b\n",
        "#from scipy.misc import imsave\n",
        "import imageio\n",
        "import time\n",
        "result_prefix = 'refik'\n",
        "iterations = 5\n",
        "x = preprocess_image(target_image_path)\n",
        "x = x.flatten()\n",
        "for i in range(iterations):\n",
        "    print('Start of iteration', i)\n",
        "    start_time = time.time()\n",
        "    x, min_val, info = fmin_l_bfgs_b(evaluator.loss,x,fprime=evaluator.grads,maxfun=20)\n",
        "    print('Current loss value:', min_val)\n",
        "    img = x.copy().reshape((img_height, img_width, 3))\n",
        "    img = deprocess_image(img)\n",
        "    fname = result_prefix + '_iter_%d.png' % i\n",
        "    imageio.imwrite(fname, img)\n",
        "    print('Image saved as', fname)\n",
        "    end_time = time.time()\n",
        "print('Iteration %d completed in %ds' % (i, end_time - start_time))"
      ],
      "execution_count": null,
      "outputs": [
        {
          "output_type": "stream",
          "text": [
            "Start of iteration 0\n",
            "Current loss value: 1813799000.0\n",
            "Image saved as refik_iter_0.png\n",
            "Start of iteration 1\n",
            "Current loss value: 954345900.0\n",
            "Image saved as refik_iter_1.png\n",
            "Start of iteration 2\n",
            "Current loss value: 662759900.0\n",
            "Image saved as refik_iter_2.png\n",
            "Start of iteration 3\n",
            "Current loss value: 519924900.0\n",
            "Image saved as refik_iter_3.png\n",
            "Start of iteration 4\n",
            "Current loss value: 445685630.0\n",
            "Image saved as refik_iter_4.png\n",
            "Iteration 4 completed in 214s\n"
          ],
          "name": "stdout"
        }
      ]
    },
    {
      "cell_type": "code",
      "metadata": {
        "id": "wHNnQKJ0T-hT",
        "colab_type": "code",
        "colab": {}
      },
      "source": [
        ""
      ],
      "execution_count": null,
      "outputs": []
    },
    {
      "cell_type": "code",
      "metadata": {
        "id": "YYtn99pNC78U",
        "colab_type": "code",
        "colab": {}
      },
      "source": [
        ""
      ],
      "execution_count": null,
      "outputs": []
    }
  ]
}